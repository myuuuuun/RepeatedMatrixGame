{
 "metadata": {
  "name": "",
  "signature": "sha256:15270cdea1268d2f71d3419e5032832198ef0c1ee025b9aa3f342c4e146b1902"
 },
 "nbformat": 3,
 "nbformat_minor": 0,
 "worksheets": [
  {
   "cells": [
    {
     "cell_type": "markdown",
     "metadata": {},
     "source": [
      "# iPython notebook\u7528unittest"
     ]
    },
    {
     "cell_type": "code",
     "collapsed": false,
     "input": [
      "# -*- coding: utf-8 -*-\n",
      "from __future__ import division, print_function\n",
      "import numpy as np\n",
      "import unittest\n",
      "from sample import MyStrategy, AllC, AllD, GrimTrigger, Alternate, RandomStrategy"
     ],
     "language": "python",
     "metadata": {},
     "outputs": [],
     "prompt_number": 3
    },
    {
     "cell_type": "code",
     "collapsed": false,
     "input": [
      "\n",
      "class TestStrategies(unittest.TestCase):\n",
      "    def setUp(self):\n",
      "        self.Strategies = [MyStrategy, AllC, AllD, GrimTrigger, Alternate, RandomStrategy] # \u3053\u3053\u306b\u81ea\u4f5c\u306eclass\u3092\u5165\u308c\u308b\n",
      "        self.case1 = \"Signal is empty(period 1)\"\n",
      "        self.case2 = [0, 1]\n",
      "        self.case3 = [1, 0]\n",
      "        self.case4 = [0, 1, 0, 1, 0, 0, 1]\n",
      "\n",
      "        self.seed = 11451\n",
      "        self.RandomState = np.random.RandomState(self.seed)\n",
      "\n",
      "\n",
      "    # case1\u3092\u5f15\u6570\u306b\u6e21\u3057\u3066\u30c6\u30b9\u30c8\n",
      "    def test1(self):\n",
      "        print(\"testcase:\", self.case1)\n",
      "        for Strategy in self.Strategies:\n",
      "            rst = Strategy(self.RandomState).play()\n",
      "            self.assertIn(rst, (0, 1))\n",
      "\n",
      "\n",
      "    # case2\u3092\u5f15\u6570\u306b\u6e21\u3057\u3066\u30c6\u30b9\u30c8\n",
      "    def test2(self):\n",
      "        print(\"testcase:\", self.case2)\n",
      "        for Strategy in self.Strategies:\n",
      "            S = Strategy(self.RandomState)\n",
      "            S.get_signal(self.case2)\n",
      "            rst = S.play()\n",
      "            self.assertIn(rst, (0, 1))\n",
      "\n",
      "\n",
      "    # case3\u3092\u5f15\u6570\u306b\u6e21\u3057\u3066\u30c6\u30b9\u30c8\n",
      "    def test3(self):\n",
      "        print(\"testcase:\", self.case3)\n",
      "        for Strategy in self.Strategies:\n",
      "            S = Strategy(self.RandomState)\n",
      "            for signal in self.case3:\n",
      "                S.get_signal(signal)\n",
      "            \n",
      "            rst = S.play()\n",
      "            self.assertIn(rst, (0, 1))\n",
      "\n",
      "\n",
      "    # case4\u3092\u5f15\u6570\u306b\u6e21\u3057\u3066\u30c6\u30b9\u30c8\n",
      "    def test4(self):\n",
      "        print(\"testcase:\", self.case4)\n",
      "        for Strategy in self.Strategies:\n",
      "            S = Strategy(self.RandomState)\n",
      "            for signal in self.case4:\n",
      "                S.get_signal(signal)\n",
      "                rst = S.play()\n",
      "            \n",
      "            self.assertIn(rst, (0, 1))\n"
     ],
     "language": "python",
     "metadata": {},
     "outputs": [],
     "prompt_number": 5
    },
    {
     "cell_type": "code",
     "collapsed": false,
     "input": [
      "suite = unittest.TestLoader().loadTestsFromTestCase(TestStrategies)\n",
      "unittest.TextTestRunner().run(suite)"
     ],
     "language": "python",
     "metadata": {},
     "outputs": [
      {
       "output_type": "stream",
       "stream": "stderr",
       "text": [
        "."
       ]
      },
      {
       "output_type": "stream",
       "stream": "stderr",
       "text": [
        "."
       ]
      },
      {
       "output_type": "stream",
       "stream": "stderr",
       "text": [
        "."
       ]
      },
      {
       "output_type": "stream",
       "stream": "stderr",
       "text": [
        "."
       ]
      },
      {
       "output_type": "stream",
       "stream": "stdout",
       "text": [
        "testcase: Signal is empty(period 1)\n",
        "testcase: [0, 1]\n",
        "testcase: [1, 0]\n",
        "testcase: [0, 1, 0, 1, 0, 0, 1]\n"
       ]
      },
      {
       "output_type": "stream",
       "stream": "stderr",
       "text": [
        "\n",
        "----------------------------------------------------------------------\n",
        "Ran 4 tests in 0.003s\n",
        "\n",
        "OK\n"
       ]
      },
      {
       "metadata": {},
       "output_type": "pyout",
       "prompt_number": 8,
       "text": [
        "<unittest.runner.TextTestResult run=4 errors=0 failures=0>"
       ]
      }
     ],
     "prompt_number": 8
    },
    {
     "cell_type": "code",
     "collapsed": false,
     "input": [],
     "language": "python",
     "metadata": {},
     "outputs": []
    }
   ],
   "metadata": {}
  }
 ]
}